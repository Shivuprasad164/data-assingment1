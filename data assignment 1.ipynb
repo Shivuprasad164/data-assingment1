{
  "cells": [
    {
      "cell_type": "code",
      "execution_count": 1,
      "metadata": {
        "trusted": true
      },
      "outputs": [],
      "source": [
        "import numpy as np"
      ]
    },
    {
      "cell_type": "code",
      "execution_count": 2,
      "metadata": {
        "trusted": true
      },
      "outputs": [
        {
          "data": {
            "text/plain": [
              "array([0, 0, 0, 0, 1, 0, 0, 0, 0, 0])"
            ]
          },
          "execution_count": 2,
          "metadata": {},
          "output_type": "execute_result"
        }
      ],
      "source": [
        "#Create a null vector of size 10 but the fifth value which is 1.\n",
        "def function():\n",
        "    arr = np.zeros(10, dtype = int)\n",
        "    arr[4] = 1\n",
        "    return arr\n",
        "function()"
      ]
    },
    {
      "cell_type": "code",
      "execution_count": null,
      "metadata": {},
      "outputs": [],
      "source": []
    },
    {
      "cell_type": "code",
      "execution_count": 4,
      "metadata": {
        "trusted": true
      },
      "outputs": [
        {
          "name": "stdout",
          "output_type": "stream",
          "text": [
            "[10 11 12 13 14 15 16 17 18 19 20 21 22 23 24 25 26 27 28 29 30 31 32 33\n",
            " 34 35 36 37 38 39 40 41 42 43 44 45 46 47 48]\n"
          ]
        }
      ],
      "source": [
        "#Create a vector with values ranging from 10 to 49.\n",
        "v = np.arange(10,49)\n",
        "print(v)"
      ]
    },
    {
      "cell_type": "code",
      "execution_count": 10,
      "metadata": {
        "trusted": true
      },
      "outputs": [
        {
          "name": "stdout",
          "output_type": "stream",
          "text": [
            "[[0 1 2]\n",
            " [3 4 5]\n",
            " [6 7 8]]\n"
          ]
        }
      ],
      "source": [
        " #Create a 3x3 matrix with values ranging from 0 to 9\n",
        "    \n",
        "x = np.arange(0, 9).reshape(3,3)\n",
        "print(x)"
      ]
    },
    {
      "cell_type": "code",
      "execution_count": null,
      "metadata": {
        "trusted": true
      },
      "outputs": [],
      "source": [
        "#Find indices of non-zero elements from [1,2,0,0,4,0]\n",
        "nums = np.array([1,2,0,0,4,0])\n",
        "print(\"original array\")\n",
        "print(nums)\n",
        "print(\"indices of non zero elements  of the said array\")\n",
        "result =np.where(nums != 0)[0]\n",
        "print(result)\n",
        "\n"
      ]
    },
    {
      "cell_type": "code",
      "execution_count": 13,
      "metadata": {
        "trusted": true
      },
      "outputs": [
        {
          "name": "stdout",
          "output_type": "stream",
          "text": [
            "[[4.87182285e-01 8.49272269e-01 8.44872955e-01 1.33850784e-01\n",
            "  7.30959927e-01 3.26166176e-01 5.09842722e-02 8.34241876e-01\n",
            "  8.12062007e-01 1.44027224e-01]\n",
            " [4.24108743e-02 3.56063069e-01 3.71933942e-01 5.03974617e-01\n",
            "  6.52455670e-01 6.84545736e-01 9.35416175e-01 1.76257080e-01\n",
            "  2.56626093e-01 6.29495510e-01]\n",
            " [6.07137450e-01 6.30830862e-01 3.50442201e-01 2.69419689e-01\n",
            "  1.82566598e-01 6.92487348e-01 6.02786435e-01 5.14957723e-01\n",
            "  8.07391714e-01 5.94621116e-01]\n",
            " [3.14633894e-01 9.76044260e-01 9.26766905e-01 8.28210694e-01\n",
            "  6.31247435e-02 5.02110249e-01 8.92507006e-01 1.60809886e-01\n",
            "  6.45679817e-02 4.18830706e-01]\n",
            " [5.23645216e-01 5.54531211e-02 8.75442607e-02 6.50109315e-01\n",
            "  4.09385790e-01 8.70674164e-01 7.61983246e-01 2.67908964e-01\n",
            "  9.25709478e-01 3.22838797e-01]\n",
            " [4.65215723e-01 6.02392105e-01 3.80332469e-01 1.77912223e-01\n",
            "  9.23233036e-01 7.56028725e-02 3.68027901e-01 9.99160689e-02\n",
            "  1.86701507e-03 5.63979351e-01]\n",
            " [3.46140214e-01 3.02157326e-01 5.63850047e-01 4.41890754e-01\n",
            "  6.53572154e-01 6.37251760e-01 6.55679082e-01 2.45975362e-01\n",
            "  5.89389975e-01 3.72061514e-01]\n",
            " [3.74396634e-01 6.25284059e-01 5.44925579e-01 2.75530081e-01\n",
            "  1.27959908e-01 7.03905632e-01 1.96957142e-02 3.16753017e-01\n",
            "  8.60447420e-04 1.09158844e-01]\n",
            " [5.64559826e-01 2.79320246e-01 4.67878247e-01 5.30583665e-01\n",
            "  4.20639136e-01 1.73046398e-01 1.70369460e-02 3.72586609e-01\n",
            "  1.13986541e-01 7.04482388e-01]\n",
            " [6.62776876e-01 3.04723613e-01 9.56986370e-01 3.43123718e-02\n",
            "  1.33264752e-01 9.43624352e-01 1.24573378e-01 2.60625591e-01\n",
            "  4.69962904e-01 3.74825018e-01]]\n",
            "0.9760442595705329 0.000860447419974042\n"
          ]
        }
      ],
      "source": [
        "#Create a 10x10 array with random values and find the minimum and maximum values.\n",
        "x = np.random.random((10,10))\n",
        "print(x)\n",
        "xmax,xmin =x.max(),x.min()\n",
        "print(xmax,xmin)"
      ]
    },
    {
      "cell_type": "code",
      "execution_count": 14,
      "metadata": {
        "trusted": true
      },
      "outputs": [
        {
          "name": "stdout",
          "output_type": "stream",
          "text": [
            "0.5530020111616516\n"
          ]
        }
      ],
      "source": [
        "#Create a random vector of size 30 and find the mean value.\n",
        "Z = np.random.random(30)\n",
        "m = Z.mean()\n",
        "print(m)"
      ]
    },
    {
      "cell_type": "code",
      "execution_count": null,
      "metadata": {},
      "outputs": [],
      "source": []
    }
  ],
  "metadata": {
    "kernelspec": {
      "display_name": "Python 3.8.0 64-bit",
      "language": "python",
      "name": "python3"
    },
    "language_info": {
      "codemirror_mode": {
        "name": "python",
        "version": 3
      },
      "file_extension": ".py",
      "mimetype": "text/x-python",
      "name": "python",
      "nbconvert_exporter": "python",
      "pygments_lexer": "ipython3",
      "version": "3.8.0"
    },
    "vscode": {
      "interpreter": {
        "hash": "e9bd8a42d227f08761d188c736ddf2998dc1820fb0adbde272332860f42f2827"
      }
    }
  },
  "nbformat": 4,
  "nbformat_minor": 4
}
